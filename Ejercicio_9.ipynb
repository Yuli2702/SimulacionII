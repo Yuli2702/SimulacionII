{
  "nbformat": 4,
  "nbformat_minor": 0,
  "metadata": {
    "colab": {
      "name": "Ejercicio 9.ipynb",
      "provenance": [],
      "collapsed_sections": [],
      "authorship_tag": "ABX9TyN2XjOFJHqVkauvQJYpICUl",
      "include_colab_link": true
    },
    "kernelspec": {
      "name": "python3",
      "display_name": "Python 3"
    },
    "language_info": {
      "name": "python"
    }
  },
  "cells": [
    {
      "cell_type": "markdown",
      "metadata": {
        "id": "view-in-github",
        "colab_type": "text"
      },
      "source": [
        "<a href=\"https://colab.research.google.com/github/Yuli2702/SimulacionII/blob/main/Ejercicio_9.ipynb\" target=\"_parent\"><img src=\"https://colab.research.google.com/assets/colab-badge.svg\" alt=\"Open In Colab\"/></a>"
      ]
    },
    {
      "cell_type": "markdown",
      "source": [
        "# **Ejercicio 9**\n",
        "1. Elegir al azar una ciudad de la Lista despues de hacer una mezcla.\n"
      ],
      "metadata": {
        "id": "tylRCftpJXC3"
      }
    },
    {
      "cell_type": "code",
      "source": [
        "import random\n",
        "import numpy as np\n",
        "import matplotlib.pyplot as plt\n",
        "\n",
        "Lista=['Roma','Berlin','Paris','Madrid', 'Buenos Aires', 'México','Rio de Janeiro', 'Copenhague', 'California','Londres' ]\n",
        "for i in range(1):\n",
        "  ciudad=random.choice(Lista)\n",
        "  print(ciudad)\n"
      ],
      "metadata": {
        "colab": {
          "base_uri": "https://localhost:8080/"
        },
        "id": "WbODCqnGI_71",
        "outputId": "d0523e32-6291-4157-9cf9-19426e988d2b"
      },
      "execution_count": 19,
      "outputs": [
        {
          "output_type": "stream",
          "name": "stdout",
          "text": [
            "Buenos Aires\n"
          ]
        }
      ]
    },
    {
      "cell_type": "markdown",
      "source": [
        "2. Elegir al azar tres ciudades después de una mezcla."
      ],
      "metadata": {
        "id": "3ywAb1rSJjqK"
      }
    },
    {
      "cell_type": "code",
      "execution_count": 18,
      "metadata": {
        "colab": {
          "base_uri": "https://localhost:8080/"
        },
        "id": "Pe1YDXhJI7kV",
        "outputId": "a25fb555-6a77-4b96-e8b1-1809e09a1dca"
      },
      "outputs": [
        {
          "output_type": "stream",
          "name": "stdout",
          "text": [
            "Londres\n",
            "México\n",
            "Copenhague\n"
          ]
        }
      ],
      "source": [
        "import random\n",
        "import numpy as np\n",
        "import matplotlib.pyplot as plt\n",
        "\n",
        "Lista=['Roma','Berlin','Paris','Madrid', 'Buenos Aires', 'México','Rio de Janeiro', 'Copenhague', 'California','Londres' ]\n",
        "for i in range(3):\n",
        "  ciudad=random.choice(Lista)\n",
        "  print(ciudad)"
      ]
    }
  ]
}