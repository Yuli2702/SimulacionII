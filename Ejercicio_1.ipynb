{
  "nbformat": 4,
  "nbformat_minor": 0,
  "metadata": {
    "colab": {
      "name": "Ejercicio 1.ipynb",
      "provenance": [],
      "authorship_tag": "ABX9TyM6QQM4ySN960gdnjsS/uHj",
      "include_colab_link": true
    },
    "kernelspec": {
      "name": "python3",
      "display_name": "Python 3"
    },
    "language_info": {
      "name": "python"
    }
  },
  "cells": [
    {
      "cell_type": "markdown",
      "metadata": {
        "id": "view-in-github",
        "colab_type": "text"
      },
      "source": [
        "<a href=\"https://colab.research.google.com/github/Yuli2702/SimulacionII/blob/main/Ejercicio_1.ipynb\" target=\"_parent\"><img src=\"https://colab.research.google.com/assets/colab-badge.svg\" alt=\"Open In Colab\"/></a>"
      ]
    },
    {
      "cell_type": "markdown",
      "source": [
        "#Ejercicio 1\n",
        "\n",
        "a)Usar la función random() para simular 1 volado."
      ],
      "metadata": {
        "id": "dw8Oi7KN2qsd"
      }
    },
    {
      "cell_type": "code",
      "source": [
        "import random as rnd\n",
        "\n",
        "valor = rnd.random()\n",
        "\n",
        "if valor > 0.5:\n",
        "  print(\"Aguila\")\n",
        "else:\n",
        "  print(\"Sol\")\n"
      ],
      "metadata": {
        "colab": {
          "base_uri": "https://localhost:8080/"
        },
        "id": "zDwWVSsvCiez",
        "outputId": "1c32e5c1-cc87-4d95-d84c-baeb2495b662"
      },
      "execution_count": null,
      "outputs": [
        {
          "output_type": "stream",
          "name": "stdout",
          "text": [
            "Sol\n"
          ]
        }
      ]
    },
    {
      "cell_type": "markdown",
      "source": [
        "b)Usar la función random() para simular 1000 volados."
      ],
      "metadata": {
        "id": "dTauYk6CEQpj"
      }
    },
    {
      "cell_type": "code",
      "source": [
        "import random\n",
        "aguila = 0\n",
        "sol = 1\n",
        "for i in range(1000):\n",
        "  tirada = random.choice([\"aguila\", \"sol\"])\n",
        "  if tirada == \"aguila\":\n",
        "      aguila += 1\n",
        "  elif tirada == \"sol\":\n",
        "    sol += 1\n",
        "\n",
        "print(\"Han salido\", aguila, \"aguila, y\", sol, \"sol.\")"
      ],
      "metadata": {
        "colab": {
          "base_uri": "https://localhost:8080/"
        },
        "id": "eiwBHS0XEVtf",
        "outputId": "050b5d77-b350-450e-9ae3-d537ca97ad81"
      },
      "execution_count": null,
      "outputs": [
        {
          "output_type": "stream",
          "name": "stdout",
          "text": [
            "Han salido 510 aguila, y 491 sol.\n"
          ]
        }
      ]
    },
    {
      "cell_type": "markdown",
      "source": [
        "c)Determinar de b) la probabilidad de que ocurra \"sol\" en un volado."
      ],
      "metadata": {
        "id": "7rzdM7VNBiqE"
      }
    },
    {
      "cell_type": "code",
      "source": [
        "import random\n",
        "aguila = \"Aguila\"\n",
        "sol = \"Sol\"\n",
        "\n",
        "prob = 0.5\n",
        "cant = 1000\n",
        "lista = [sol]*int(prob*cant)+[aguila]*int((1-prob)*cant)\n",
        "resultados = {sol: 0, aguila: 0}\n",
        "for i in range(100):\n",
        "    resultados [random.choice(lista)] +=1\n",
        "\n",
        "prob_sol = (100*resultados[sol])/(resultados[aguila]+resultados[sol])\n",
        "print(\"La probabilidad de {0} es de: {1}%\".format(sol, prob_sol))"
      ],
      "metadata": {
        "colab": {
          "base_uri": "https://localhost:8080/"
        },
        "id": "uaDyqZd3BUqp",
        "outputId": "2f62872f-1953-4325-ef06-56451cb8c0ad"
      },
      "execution_count": null,
      "outputs": [
        {
          "output_type": "stream",
          "name": "stdout",
          "text": [
            "La probabilidad de Sol es de: 53.0%\n"
          ]
        }
      ]
    }
  ]
}