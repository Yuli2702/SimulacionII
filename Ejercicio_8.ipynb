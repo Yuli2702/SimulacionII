{
  "nbformat": 4,
  "nbformat_minor": 0,
  "metadata": {
    "colab": {
      "name": "Ejercicio 8.ipynb",
      "provenance": [],
      "collapsed_sections": [],
      "authorship_tag": "ABX9TyNcwkaXRgzaEmW8CltSs/He",
      "include_colab_link": true
    },
    "kernelspec": {
      "name": "python3",
      "display_name": "Python 3"
    },
    "language_info": {
      "name": "python"
    }
  },
  "cells": [
    {
      "cell_type": "markdown",
      "metadata": {
        "id": "view-in-github",
        "colab_type": "text"
      },
      "source": [
        "<a href=\"https://colab.research.google.com/github/Yuli2702/SimulacionII/blob/main/Ejercicio_8.ipynb\" target=\"_parent\"><img src=\"https://colab.research.google.com/assets/colab-badge.svg\" alt=\"Open In Colab\"/></a>"
      ]
    },
    {
      "cell_type": "markdown",
      "source": [
        "## Ejercicio integración método de Monte Carlo\n",
        "\n",
        "Estimar las integrales:\n",
        "\n",
        "1. $\\int_0^1 (1 - x^2)^{\\frac{3}{2}} dx$\n",
        "\n"
      ],
      "metadata": {
        "id": "024okYTzy0zY"
      }
    },
    {
      "cell_type": "code",
      "source": [
        "from scipy import random\n",
        "import numpy as np\n",
        "import matplotlib.pyplot as plt\n",
        "\n",
        "a = 0\n",
        "b = 1\n",
        "N = 1000\n",
        "\n",
        "def f(x):\n",
        "\treturn (1-x**2)**(3/2)\n",
        "plt_vals = []\n",
        "\n",
        "for i in range(N):\n",
        "\tar = np.zeros(N)\n",
        "\n",
        "\tfor i in range (len(ar)):\n",
        "\t\tar[i] = random.uniform(a,b)\n",
        "\tintegral = 0.0\n",
        "\n",
        "\tfor i in ar:\n",
        "\t\tintegral += f(i)\n",
        "\tans = (b-a)/float(N)*integral\n",
        "\tplt_vals.append(ans)\n",
        "\n",
        "plt.title(\"Distribución de áreas calculadas\")\n",
        "\n",
        "plt.hist (plt_vals, bins=30, ec=\"black\")\n",
        "\n",
        "plt.xlabel(\"Áreas\")\n",
        "plt.show() # shows the plot\n",
        "\n",
        "print (\"El valor de la integración por Monte Carlo es {}.\".format(ans))\n"
      ],
      "metadata": {
        "colab": {
          "base_uri": "https://localhost:8080/",
          "height": 312
        },
        "id": "IylbOjm632Dw",
        "outputId": "50860fdb-cee8-4403-e0ff-97b305e95116"
      },
      "execution_count": null,
      "outputs": [
        {
          "output_type": "display_data",
          "data": {
            "image/png": "[encoded data removed]",
            "text/plain": [
              "<Figure size 432x288 with 1 Axes>"
            ]
          },
          "metadata": {
            "needs_background": "light"
          }
        },
        {
          "output_type": "stream",
          "name": "stdout",
          "text": [
            "El valor de la integración por Monte Carlo es 0.5717566209778545.\n"
          ]
        }
      ]
    },
    {
      "cell_type": "markdown",
      "source": [
        "2. $\\int_{-2}^2 \\exp (x + x^2) dx$"
      ],
      "metadata": {
        "id": "dRIbeC8W46So"
      }
    },
    {
      "cell_type": "code",
      "source": [
        "from scipy import random\n",
        "import numpy as np\n",
        "import matplotlib.pyplot as plt\n",
        "import math\n",
        "\n",
        "a = -2\n",
        "b = 2\n",
        "N = 1000\n",
        "\n",
        "def f(x):\n",
        "\treturn math.exp(x+x**2)\n",
        "plt_vals = []\n",
        "\n",
        "for i in range(N):\n",
        "\tar = np.zeros(N)\n",
        "\n",
        "\tfor i in range (len(ar)):\n",
        "\t\tar[i] = random.uniform(a,b)\n",
        "\tintegral = 0.0\n",
        "\n",
        "\tfor i in ar:\n",
        "\t\tintegral += f(i)\n",
        "\tans = (b-a)/float(N)*integral\n",
        "\tplt_vals.append(ans)\n",
        "\n",
        "plt.title(\"Distribución de áreas calculadas\")\n",
        "\n",
        "plt.hist (plt_vals, bins=30, ec=\"black\")\n",
        "\n",
        "plt.xlabel(\"Áreas\")\n",
        "plt.show() # shows the plot\n",
        "\n",
        "print (\"El valor de la integración por Monte Carlo es {}.\".format(ans))"
      ],
      "metadata": {
        "colab": {
          "base_uri": "https://localhost:8080/",
          "height": 312
        },
        "id": "4aCeJpHY45cp",
        "outputId": "530e65d5-2dbb-4258-bee8-8bf6dc00957d"
      },
      "execution_count": null,
      "outputs": [
        {
          "output_type": "display_data",
          "data": {
            "image/png": "[encoded data removed]",
            "text/plain": [
              "<Figure size 432x288 with 1 Axes>"
            ]
          },
          "metadata": {
            "needs_background": "light"
          }
        },
        {
          "output_type": "stream",
          "name": "stdout",
          "text": [
            "El valor de la integración por Monte Carlo es 92.34697758670596.\n"
          ]
        }
      ]
    }
  ]
}