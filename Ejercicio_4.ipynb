{
  "nbformat": 4,
  "nbformat_minor": 0,
  "metadata": {
    "colab": {
      "name": "Ejercicio 4.ipynb",
      "provenance": [],
      "collapsed_sections": [],
      "authorship_tag": "ABX9TyND1P5PsMj7er5/KvHdNmhc",
      "include_colab_link": true
    },
    "kernelspec": {
      "name": "python3",
      "display_name": "Python 3"
    },
    "language_info": {
      "name": "python"
    }
  },
  "cells": [
    {
      "cell_type": "markdown",
      "metadata": {
        "id": "view-in-github",
        "colab_type": "text"
      },
      "source": [
        "<a href=\"https://colab.research.google.com/github/Yuli2702/SimulacionII/blob/main/Ejercicio_4.ipynb\" target=\"_parent\"><img src=\"https://colab.research.google.com/assets/colab-badge.svg\" alt=\"Open In Colab\"/></a>"
      ]
    },
    {
      "cell_type": "markdown",
      "source": [
        "# **Ejercicio 4:**\n",
        "a) Calcular $E[X_i]$ y $V[X_i]$ \n"
      ],
      "metadata": {
        "id": "diJ_sBjPNvAf"
      }
    },
    {
      "cell_type": "code",
      "execution_count": null,
      "metadata": {
        "colab": {
          "base_uri": "https://localhost:8080/"
        },
        "id": "xxFUWRlbNuD4",
        "outputId": "4170cd8c-12e2-4ccf-a622-5da922d1089a"
      },
      "outputs": [
        {
          "output_type": "stream",
          "name": "stdout",
          "text": [
            "E[X_i] =  0.0012577719749403136\n",
            "V[X_i] =  0.0012561899845993684\n"
          ]
        }
      ],
      "source": [
        "import random\n",
        "N = 1000  \n",
        "def p_Taylor(n):\n",
        "  x= 0 \n",
        "  for i in range(n): \n",
        "    x = random.random() \n",
        "    y = random.random() \n",
        "    if (x**2 + y**2 <1): \n",
        "      x = x+1 \n",
        "  p = (x/n) \n",
        "  return p \n",
        "E = p_Taylor(N) \n",
        "V = E*(1-E)  \n",
        "print (\"E[X_i] = \",E)\n",
        "print (\"V[X_i] = \",V)"
      ]
    }
  ]
}