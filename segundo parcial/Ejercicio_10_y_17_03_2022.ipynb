{
  "nbformat": 4,
  "nbformat_minor": 0,
  "metadata": {
    "colab": {
      "name": "Ejercicio 10 y 17-03-2022.ipynb",
      "provenance": [],
      "authorship_tag": "ABX9TyONAaoR5hZEuUvWHBc6TezJ"
    },
    "kernelspec": {
      "name": "python3",
      "display_name": "Python 3"
    },
    "language_info": {
      "name": "python"
    }
  },
  "cells": [
    {
      "cell_type": "markdown",
      "source": [
        "Ejercicio de las calses 10 y 17 de marzo de 2022\n",
        "\n",
        "**Simulación manual** \\\\\n",
        "Complementar la siguiente tabla\n",
        "\n",
        "| Pkt No. |Tpll  |tps  |Tiempo de arribo|Inicio de servicio|Hora de salida|Tiempo en fila |Tiempo en el sistema  | Tamaño de cola | No. de clientes\n",
        "|---------|-----|----|--------------|--------|----------------|------|-------|-----------|-----------|\n",
        "| 1 | 2 | 12 | 2 | 2 | 14 | 0 | 12 | 0 | 4 |\n",
        "|2| 5| 10 |7 |14 |24 |7 |17 |1 |6|\n",
        "|3 |1 |16 |8 |24 |40 |16 |32 |2 |7|\n",
        "|4 |4 |9 |12 |40 |49 |28 |37 |3 |6|\n",
        "|5 |1 |10 |12 |49 |59 |36 |46 |4 |5|\n",
        "|6 |3 |13 |16 |59 |72 |43 |56 |5 |4|\n",
        "|7 |3 |17 |19 |72 |89 |53 |70 |6 |3|\n",
        "|8 |2 |10 |2 |89 |99 |68 |78 |7 |2|\n",
        "|9 |4 |8 |25 |99 |107 |74 |82 |8 |1|\n",
        "|10 | 5| 12 |30 |107 |119| 77 |89 |9| 0|"
      ],
      "metadata": {
        "id": "dxUHg9GOQAIo"
      }
    },
    {
      "cell_type": "markdown",
      "source": [
        "λ = 1028 = 0.3571 \n",
        "\n",
        "μ = 10117 =0.0854 \n",
        "\n",
        "Wq = 40210 = 40.2 \n",
        "\n",
        "W = 51910 = 51.9 \n",
        "\n",
        "Lq = Wq∗λ = 14.3554 \n",
        "\n",
        "L = W∗λ = 18.5335"
      ],
      "metadata": {
        "id": "bLKWYulR1W_X"
      }
    }
  ]
}