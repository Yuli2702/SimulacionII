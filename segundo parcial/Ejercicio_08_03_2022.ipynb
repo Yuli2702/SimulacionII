{
  "nbformat": 4,
  "nbformat_minor": 0,
  "metadata": {
    "colab": {
      "name": "Ejercicio 08-03-2022.ipynb",
      "provenance": [],
      "collapsed_sections": [],
      "authorship_tag": "ABX9TyO3uSgrnRh2XkxKTDiJheyr"
    },
    "kernelspec": {
      "name": "python3",
      "display_name": "Python 3"
    },
    "language_info": {
      "name": "python"
    }
  },
  "cells": [
    {
      "cell_type": "markdown",
      "source": [
        "Subrutina para generar  $Ts$ , el tiempo de la primera llegada después del instante $s$."
      ],
      "metadata": {
        "id": "JgxKax8lbX8D"
      }
    },
    {
      "cell_type": "code",
      "source": [
        "import random\n",
        "import matplotlib.pyplot as plt\n",
        "\n",
        "def Ts(ta,T):  #Parámetros ta: tiempo de arrivo, T: tiempo total de simulación\n",
        "    N = 0    # Llegadas\n",
        "    t = 0      #Tiempo de simulación  \n",
        "    num_arrivals = []\n",
        "    time = []\n",
        "    while t <= T:\n",
        "        N += 1 \n",
        "        t = t + random.expovariate(1/ta) \n",
        "        num_arrivals.append(N)\n",
        "        time.append(t)\n",
        "    print('Ts: ', time)\n",
        "Ts(2,15)"
      ],
      "metadata": {
        "colab": {
          "base_uri": "https://localhost:8080/"
        },
        "id": "QkTpaEyPXl4-",
        "outputId": "1c3509d4-13ee-46bb-85a1-ab84b798f1e7"
      },
      "execution_count": 12,
      "outputs": [
        {
          "output_type": "stream",
          "name": "stdout",
          "text": [
            "Ts:  [0.688666954394388, 3.8551235067099694, 4.264165688975605, 8.24913176392697, 11.001029770914114, 12.467002385662793, 16.374821755175585]\n"
          ]
        }
      ]
    }
  ]
}