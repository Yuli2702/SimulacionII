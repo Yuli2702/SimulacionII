{
  "nbformat": 4,
  "nbformat_minor": 0,
  "metadata": {
    "colab": {
      "name": "Ejercicio 08-03-2022.ipynb",
      "provenance": [],
      "collapsed_sections": [],
      "authorship_tag": "ABX9TyMIYTtYPDTbI0XdCXgVwjgF"
    },
    "kernelspec": {
      "name": "python3",
      "display_name": "Python 3"
    },
    "language_info": {
      "name": "python"
    }
  },
  "cells": [
    {
      "cell_type": "markdown",
      "source": [
        "Subrutina para generar  $Ts$ , el tiempo de la primera llegada después del instante $s$."
      ],
      "metadata": {
        "id": "JgxKax8lbX8D"
      }
    },
    {
      "cell_type": "code",
      "source": [
        "from random import random\n",
        "from math import log\n",
        "n=10\n",
        "l_l=1\n",
        "l_s=1.3\n",
        "tl=0 #tiempo de llegada del i-esimo cliente\n",
        "tis=0 #tiempo de inicio del servicio\n",
        "ts=tis-(1/l_s)*log(random()) #tiempo el que sale el usuario\n",
        "for i in range(n):\n",
        "    print('Numero de usuario',i, 'Tiempo de llegada del usuario' \"%8.3f\"%tl, 'Tiempo de inicio de servicio' \"%8.3f\"%tis, 'Tiempo de salida del usuario' \"%8.3f\"%ts)\n",
        "    #print('Número de cliente', i )\n",
        "    #print('Tiempo de llegada', tl )\n",
        "    #print('Tiempo de inicio de servicio', tis)\n",
        "    #print('Tiempo de salida del usuario', ts )\n",
        "    tl=tl-(1/l_l)*log(random())\n",
        "    tis=max(tl,ts)\n",
        "    ts=tis-(1/l_s)*log(random())\n"
      ],
      "metadata": {
        "colab": {
          "base_uri": "https://localhost:8080/"
        },
        "id": "QkTpaEyPXl4-",
        "outputId": "a035c6db-3dcc-4242-e391-948e48d779c8"
      },
      "execution_count": 16,
      "outputs": [
        {
          "output_type": "stream",
          "name": "stdout",
          "text": [
            "Numero de usuario 0 Tiempo de llegada del usuario   0.000 Tiempo de inicio de servicio   0.000 Tiempo de salida del usuario   3.007\n",
            "Numero de usuario 1 Tiempo de llegada del usuario   0.225 Tiempo de inicio de servicio   3.007 Tiempo de salida del usuario   3.481\n",
            "Numero de usuario 2 Tiempo de llegada del usuario   0.247 Tiempo de inicio de servicio   3.481 Tiempo de salida del usuario   4.000\n",
            "Numero de usuario 3 Tiempo de llegada del usuario   1.005 Tiempo de inicio de servicio   4.000 Tiempo de salida del usuario   6.246\n",
            "Numero de usuario 4 Tiempo de llegada del usuario   1.857 Tiempo de inicio de servicio   6.246 Tiempo de salida del usuario   6.597\n",
            "Numero de usuario 5 Tiempo de llegada del usuario   2.691 Tiempo de inicio de servicio   6.597 Tiempo de salida del usuario   6.606\n",
            "Numero de usuario 6 Tiempo de llegada del usuario   3.365 Tiempo de inicio de servicio   6.606 Tiempo de salida del usuario   6.700\n",
            "Numero de usuario 7 Tiempo de llegada del usuario   5.239 Tiempo de inicio de servicio   6.700 Tiempo de salida del usuario   6.798\n",
            "Numero de usuario 8 Tiempo de llegada del usuario   5.844 Tiempo de inicio de servicio   6.798 Tiempo de salida del usuario   7.843\n",
            "Numero de usuario 9 Tiempo de llegada del usuario   6.224 Tiempo de inicio de servicio   7.843 Tiempo de salida del usuario   8.275\n"
          ]
        }
      ]
    }
  ]
}
