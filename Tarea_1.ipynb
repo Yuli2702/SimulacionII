{
  "nbformat": 4,
  "nbformat_minor": 0,
  "metadata": {
    "colab": {
      "name": "Tarea 1.ipynb",
      "provenance": [],
      "collapsed_sections": [],
      "authorship_tag": "ABX9TyMnGboLId9+cqFX7p9op2Mx",
      "include_colab_link": true
    },
    "kernelspec": {
      "name": "python3",
      "display_name": "Python 3"
    },
    "language_info": {
      "name": "python"
    }
  },
  "cells": [
    {
      "cell_type": "markdown",
      "metadata": {
        "id": "view-in-github",
        "colab_type": "text"
      },
      "source": [
        "<a href=\"https://colab.research.google.com/github/Yuli2702/SimulacionII/blob/main/Tarea_1.ipynb\" target=\"_parent\"><img src=\"https://colab.research.google.com/assets/colab-badge.svg\" alt=\"Open In Colab\"/></a>"
      ]
    },
    {
      "cell_type": "markdown",
      "source": [
        "# **Tarea 1:**\n",
        "Estimar el valor de pi usando la función random"
      ],
      "metadata": {
        "id": "NCWmGDGdsLqm"
      }
    },
    {
      "cell_type": "code",
      "execution_count": 2,
      "metadata": {
        "colab": {
          "base_uri": "https://localhost:8080/"
        },
        "id": "ycAe4H1ocIhX",
        "outputId": "c7373fa4-e21c-4248-fd9f-ad3201389ba0"
      },
      "outputs": [
        {
          "output_type": "stream",
          "name": "stdout",
          "text": [
            "3.156\n"
          ]
        }
      ],
      "source": [
        "from random import random\n",
        "N=1000\n",
        "n=0\n",
        "for i in range (N):\n",
        "    x=random()\n",
        "    y=random()\n",
        "    if x**2+y**2<1:\n",
        "        n=n+1\n",
        "print(4*n/N)\n"
      ]
    }
  ]
}