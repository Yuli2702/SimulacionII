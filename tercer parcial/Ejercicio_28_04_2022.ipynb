{
  "nbformat": 4,
  "nbformat_minor": 0,
  "metadata": {
    "colab": {
      "name": "Ejercicio_28_04_2022.ipynb",
      "provenance": [],
      "authorship_tag": "ABX9TyOK8fzrbTgj5zALD2FZAL7c"
    },
    "kernelspec": {
      "name": "python3",
      "display_name": "Python 3"
    },
    "language_info": {
      "name": "python"
    }
  },
  "cells": [
    {
      "cell_type": "markdown",
      "source": [
        "### Ejercicio intervalos de confianza :\n",
        "\n",
        "1. Hacer una función que devuelva el intervalo de confianza.\n",
        "\n",
        "2. Calcular los intervalos de confianza a 80, 90, 95, 98 y 99% con la muestra:\n",
        "\n",
        "  $\\{3.33, \\; 3.15,\\; 2.91,\\; 3.05,\\; 2.75 \\}$"
      ],
      "metadata": {
        "id": "xb0FlcH_3GNk"
      }
    },
    {
      "cell_type": "markdown",
      "source": [
        "Para un nivel de confianza del 80%"
      ],
      "metadata": {
        "id": "r_VxGTbp6AVS"
      }
    },
    {
      "cell_type": "code",
      "execution_count": 2,
      "metadata": {
        "colab": {
          "base_uri": "https://localhost:8080/"
        },
        "id": "liTB6BWE2kGa",
        "outputId": "e913fc26-a6d6-43d5-e302-93fcc81ecb03"
      },
      "outputs": [
        {
          "output_type": "stream",
          "name": "stdout",
          "text": [
            "Media: 3.038\n",
            "Desviación estandar: 0.22208106627986096\n",
            "Intervalo de confianza: 2.89 3.19\n"
          ]
        }
      ],
      "source": [
        "import statistics as stat\n",
        "import math\n",
        "\n",
        "muestra = [3.33, 3.15, 2.91, 3.05, 2.75]\n",
        "\n",
        "n=len(muestra)             # cantidad de datos\n",
        "mean=stat.mean(muestra)    # media muestral\n",
        "s=stat.stdev(muestra)      # desviacion estandar muestral\n",
        "\n",
        "t=1.533                    # para un nivel de confianza al 80%\n",
        "\n",
        "# usamos las formulas\n",
        "ic1 = mean - t*(s/math.sqrt(n))     \n",
        "ic2 = mean + t*(s/math.sqrt(n))\n",
        "\n",
        "print(\"Media:\",mean)\n",
        "print(\"Desviación estandar:\",s)\n",
        "print(\"Intervalo de confianza:\", round(ic1, 2), round(ic2, 2))"
      ]
    },
    {
      "cell_type": "markdown",
      "source": [
        "Para un nivel de confianza del 90%"
      ],
      "metadata": {
        "id": "_iJ3kFrg9bHz"
      }
    },
    {
      "cell_type": "code",
      "source": [
        "muestra = [3.33, 3.15, 2.91, 3.05, 2.75]\n",
        "\n",
        "n=len(muestra)             # cantidad de datos\n",
        "mean=stat.mean(muestra)    # media muestral\n",
        "s=stat.stdev(muestra)      # desviacion estandar muestral\n",
        "\n",
        "t=2.132                 # para un nivel de confianza al 90%\n",
        "\n",
        "# usamos las formulas\n",
        "ic1 = mean - t*(s/math.sqrt(n))     \n",
        "ic2 = mean + t*(s/math.sqrt(n))\n",
        "\n",
        "print(\"Media:\",mean)\n",
        "print(\"Desviación estandar:\",s)\n",
        "print(\"Intervalo de confianza:\", round(ic1, 2), round(ic2, 2))"
      ],
      "metadata": {
        "colab": {
          "base_uri": "https://localhost:8080/"
        },
        "id": "fwpYAF426Qt-",
        "outputId": "07035809-df7f-4410-ab01-9d13d8aa9a0b"
      },
      "execution_count": 3,
      "outputs": [
        {
          "output_type": "stream",
          "name": "stdout",
          "text": [
            "Media: 3.038\n",
            "Desviación estandar: 0.22208106627986096\n",
            "Intervalo de confianza: 2.83 3.25\n"
          ]
        }
      ]
    },
    {
      "cell_type": "markdown",
      "source": [
        "Para un nivel de confianza del 95%"
      ],
      "metadata": {
        "id": "87_UtWfT-Png"
      }
    },
    {
      "cell_type": "code",
      "source": [
        "muestra = [3.33, 3.15, 2.91, 3.05, 2.75]\n",
        "\n",
        "n=len(muestra)             # cantidad de datos\n",
        "mean=stat.mean(muestra)    # media muestral\n",
        "s=stat.stdev(muestra)      # desviacion estandar muestral\n",
        "\n",
        "t=2.776             # para un nivel de confianza al 95%\n",
        "\n",
        "# usamos las formulas\n",
        "ic1 = mean - t*(s/math.sqrt(n))     \n",
        "ic2 = mean + t*(s/math.sqrt(n))\n",
        "\n",
        "print(\"Media:\",mean)\n",
        "print(\"Desviación estandar:\",s)\n",
        "print(\"Intervalo de confianza:\", round(ic1, 2), round(ic2, 2))"
      ],
      "metadata": {
        "colab": {
          "base_uri": "https://localhost:8080/"
        },
        "id": "TlOd7X1u60-0",
        "outputId": "9dea804d-1be6-43de-e3c5-d3aa19304a78"
      },
      "execution_count": 4,
      "outputs": [
        {
          "output_type": "stream",
          "name": "stdout",
          "text": [
            "Media: 3.038\n",
            "Desviación estandar: 0.22208106627986096\n",
            "Intervalo de confianza: 2.76 3.31\n"
          ]
        }
      ]
    },
    {
      "cell_type": "markdown",
      "source": [
        "Para un nivel de confianza del 98%"
      ],
      "metadata": {
        "id": "GI5WMHEp-Tn7"
      }
    },
    {
      "cell_type": "code",
      "source": [
        "muestra = [3.33, 3.15, 2.91, 3.05, 2.75]\n",
        "\n",
        "n=len(muestra)             # cantidad de datos\n",
        "mean=stat.mean(muestra)    # media muestral\n",
        "s=stat.stdev(muestra)      # desviacion estandar muestral\n",
        "\n",
        "t=3.747                    # para un nivel de confianza al 98%\n",
        "\n",
        "# usamos las formulas\n",
        "ic1 = mean - t*(s/math.sqrt(n))     \n",
        "ic2 = mean + t*(s/math.sqrt(n))\n",
        "\n",
        "print(\"Media:\",mean)\n",
        "print(\"Desviación estandar:\",s)\n",
        "print(\"Intervalo de confianza:\", round(ic1, 2), round(ic2, 2))"
      ],
      "metadata": {
        "colab": {
          "base_uri": "https://localhost:8080/"
        },
        "id": "rgxpD68J7Awd",
        "outputId": "49a53c48-697c-4aac-cafa-ddb7c5741e37"
      },
      "execution_count": 5,
      "outputs": [
        {
          "output_type": "stream",
          "name": "stdout",
          "text": [
            "Media: 3.038\n",
            "Desviación estandar: 0.22208106627986096\n",
            "Intervalo de confianza: 2.67 3.41\n"
          ]
        }
      ]
    },
    {
      "cell_type": "markdown",
      "source": [
        "Para un nivel de confianza del 99%"
      ],
      "metadata": {
        "id": "4kAjPCws-xiH"
      }
    },
    {
      "cell_type": "code",
      "source": [
        "muestra = [3.33, 3.15, 2.91, 3.05, 2.75]\n",
        "\n",
        "n=len(muestra)             # cantidad de datos\n",
        "mean=stat.mean(muestra)    # media muestral\n",
        "s=stat.stdev(muestra)      # desviacion estandar muestral\n",
        "\n",
        "t=4.604                  # para un nivel de confianza al 99%\n",
        "\n",
        "# usamos las formulas\n",
        "ic1 = mean - t*(s/math.sqrt(n))     \n",
        "ic2 = mean + t*(s/math.sqrt(n))\n",
        "\n",
        "print(\"Media:\",mean)\n",
        "print(\"Desviación estandar:\",s)\n",
        "print(\"Intervalo de confianza:\", round(ic1, 2), round(ic2, 2))"
      ],
      "metadata": {
        "colab": {
          "base_uri": "https://localhost:8080/"
        },
        "id": "1X3Wd2dW7U-v",
        "outputId": "ed77395d-7083-4a62-9d66-551c062ece6b"
      },
      "execution_count": 9,
      "outputs": [
        {
          "output_type": "stream",
          "name": "stdout",
          "text": [
            "Media: 3.038\n",
            "Desviación estandar: 0.22208106627986096\n",
            "Intervalo de confianza: 2.58 3.5\n"
          ]
        }
      ]
    }
  ]
}