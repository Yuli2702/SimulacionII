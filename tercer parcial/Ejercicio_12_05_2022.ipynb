{
  "nbformat": 4,
  "nbformat_minor": 0,
  "metadata": {
    "colab": {
      "name": "Ejercicio_12_05_2022.ipynb",
      "provenance": [],
      "authorship_tag": "ABX9TyMK51Lzz57x7Oj1Dmn7QQ60"
    },
    "kernelspec": {
      "name": "python3",
      "display_name": "Python 3"
    },
    "language_info": {
      "name": "python"
    }
  },
  "cells": [
    {
      "cell_type": "markdown",
      "source": [
        "### Ejercicio 12-05-2022:\n",
        "\n",
        "Comprobar que $Cov(X,Y)=\\frac{\\frac{log(2)}{2}-\\frac{\\pi}{8}}{n}$\n",
        "\n",
        "y\n",
        "\n",
        "$c=-12 \\frac{log(2)}{2}-\\frac{\\pi}{8}=0.5535$*texto en cursiva*"
      ],
      "metadata": {
        "id": "yH-LkQ7kNIs6"
      }
    },
    {
      "cell_type": "code",
      "execution_count": 3,
      "metadata": {
        "colab": {
          "base_uri": "https://localhost:8080/"
        },
        "id": "XKCqL3CxKmA7",
        "outputId": "f8c5f062-4387-458a-95fe-c42a54d33316"
      },
      "outputs": [
        {
          "output_type": "stream",
          "name": "stdout",
          "text": [
            "El valor de la integral es: 0.78593\n",
            "El error estándar es: 0.00159\n"
          ]
        }
      ],
      "source": [
        "import numpy as np\n",
        "import matplotlib.pyplot as plt\n",
        "\n",
        "#Definimos la función de prueba.\n",
        "def funcion(x):\n",
        "    return 1.0/(1+x**2) \n",
        "\n",
        "def integ(func=funcion, n=10000):\n",
        "    muestreo=[]\n",
        "    suma=[]\n",
        "    for i in range(n):\n",
        "        u= np.random.random_sample()\n",
        "        muestreo.append(u)\n",
        "        y=funcion(u)\n",
        "        suma.append(y)\n",
        "\n",
        "    return np.mean(suma), np.std(suma)/np.sqrt(n)\n",
        "\n",
        "print(\"El valor de la integral es:\", round(integ()[0],5))\n",
        "print(\"El error estándar es:\", round(integ()[1],5))"
      ]
    },
    {
      "cell_type": "code",
      "source": [
        "def integ_control(func=funcion, n=10000):\n",
        "    muestreo=[]\n",
        "    suma=[]\n",
        "    for i in range(n):\n",
        "        u= np.random.random_sample()\n",
        "        muestreo.append(u)\n",
        "        y=funcion(u) + 0.5535*(u - 0.5)\n",
        "        suma.append(y)\n",
        "\n",
        "    return np.mean(suma), np.std(suma)/np.sqrt(n)\n",
        "\n",
        "print(\"El valor de la integral es:\", round(integ_control()[0],5))\n",
        "print(\"El error estándar es:\", round(integ_control()[1],5))"
      ],
      "metadata": {
        "colab": {
          "base_uri": "https://localhost:8080/"
        },
        "id": "WLjlOHpFNXdf",
        "outputId": "ed33046b-142a-4f0b-81e6-afd28ff2abff"
      },
      "execution_count": 4,
      "outputs": [
        {
          "output_type": "stream",
          "name": "stdout",
          "text": [
            "El valor de la integral es: 0.78535\n",
            "El error estándar es: 0.00018\n"
          ]
        }
      ]
    },
    {
      "cell_type": "markdown",
      "source": [
        "La reducción es de un 90% aprox"
      ],
      "metadata": {
        "id": "-QmQHcUUNhcH"
      }
    }
  ]
}