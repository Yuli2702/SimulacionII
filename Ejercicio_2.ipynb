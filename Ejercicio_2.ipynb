{
  "nbformat": 4,
  "nbformat_minor": 0,
  "metadata": {
    "colab": {
      "name": "Ejercicio 2.ipynb",
      "provenance": [],
      "collapsed_sections": [],
      "authorship_tag": "ABX9TyPp429jAuLC2bZyjHJqBkU7",
      "include_colab_link": true
    },
    "kernelspec": {
      "name": "python3",
      "display_name": "Python 3"
    },
    "language_info": {
      "name": "python"
    }
  },
  "cells": [
    {
      "cell_type": "markdown",
      "metadata": {
        "id": "view-in-github",
        "colab_type": "text"
      },
      "source": [
        "<a href=\"https://colab.research.google.com/github/Yuli2702/SimulacionII/blob/main/Ejercicio_2.ipynb\" target=\"_parent\"><img src=\"https://colab.research.google.com/assets/colab-badge.svg\" alt=\"Open In Colab\"/></a>"
      ]
    },
    {
      "cell_type": "markdown",
      "source": [
        "# **Ejercicio 2**"
      ],
      "metadata": {
        "id": "6BUVqbmp_bXw"
      }
    },
    {
      "cell_type": "markdown",
      "source": [
        "a) Simular un sorteo de los colores blanco, negro, rojo, azul y verde."
      ],
      "metadata": {
        "id": "8nNyPkrH_jGd"
      }
    },
    {
      "cell_type": "code",
      "source": [
        "import random\n",
        " \n",
        "color = random.choice( ['blanco', 'negro', 'rojo', 'azul','verde'])\n",
        "print(color)"
      ],
      "metadata": {
        "colab": {
          "base_uri": "https://localhost:8080/"
        },
        "id": "A-oRkmtuStsY",
        "outputId": "ce1e3b1e-bbf0-4c22-e252-ce79f61015ed"
      },
      "execution_count": null,
      "outputs": [
        {
          "output_type": "stream",
          "name": "stdout",
          "text": [
            "negro\n"
          ]
        }
      ]
    },
    {
      "cell_type": "markdown",
      "source": [
        "b) Simular 5 sorteos con sustitución."
      ],
      "metadata": {
        "id": "A216I6Sl_kWF"
      }
    },
    {
      "cell_type": "code",
      "source": [
        "import random \n",
        "def sorteo():\n",
        "\n",
        "    x=random.randint(1,5)\n",
        "    if x<=1:\n",
        "        color = 'blanco'\n",
        "    elif x<=2:\n",
        "        color = 'negro'\n",
        "    elif x<=3:\n",
        "        color = 'rojo'\n",
        "    elif x<=4:\n",
        "        color = 'azul'\n",
        "    else:\n",
        "        color = 'verde'\n",
        "    return color\n",
        "print(sorteo())\n"
      ],
      "metadata": {
        "colab": {
          "base_uri": "https://localhost:8080/"
        },
        "id": "oCTn16lCESK9",
        "outputId": "f2cf5c41-0759-4b33-c839-6ce4a235a175"
      },
      "execution_count": null,
      "outputs": [
        {
          "output_type": "stream",
          "name": "stdout",
          "text": [
            "azul\n"
          ]
        }
      ]
    }
  ]
}