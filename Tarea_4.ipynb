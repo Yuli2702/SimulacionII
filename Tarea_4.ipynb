{
  "nbformat": 4,
  "nbformat_minor": 0,
  "metadata": {
    "colab": {
      "name": "Tarea 4.ipynb",
      "provenance": [],
      "collapsed_sections": [],
      "authorship_tag": "ABX9TyND8x66hqUFZBhgnAHyM/4i"
    },
    "kernelspec": {
      "name": "python3",
      "display_name": "Python 3"
    },
    "language_info": {
      "name": "python"
    }
  },
  "cells": [
    {
      "cell_type": "markdown",
      "source": [
        "# **Tarea 4**\n",
        "\n",
        "Elaborar un código en Python para generar una distribución normal por el método de las doce uniformes (usar la función random( )). Hacer el histograma y comparar con el generado por la función gauss( )."
      ],
      "metadata": {
        "id": "kAnG8hhx8D7I"
      }
    },
    {
      "cell_type": "code",
      "source": [
        "import random\n",
        "import numpy as np\n",
        "import matplotlib.pyplot as plt\n",
        "mu=200\n",
        "sigma=20\n",
        "N=10000\n",
        "nums=[]\n",
        "for j in range(N):\n",
        "  suma=0\n",
        "  for i in range(12):\n",
        "    a=random.random()\n",
        "    suma=suma+a\n",
        "  x=mu+sigma*(suma-6)\n",
        "  nums.append(x)\n",
        "plt.hist(nums, bins = 100,color='green')\n",
        "plt.title(\"Metodo de las doce uniformes\")\n",
        "plt.show()\n",
        "num=[]\n"
      ],
      "metadata": {
        "colab": {
          "base_uri": "https://localhost:8080/",
          "height": 281
        },
        "id": "CvS9vCusy-Em",
        "outputId": "4374fd32-0356-479f-f300-e2726f1d01e7"
      },
      "execution_count": null,
      "outputs": [
        {
          "output_type": "display_data",
          "data": {
            "text/plain": [
              "<Figure size 432x288 with 1 Axes>"
            ],
            "image/png": "[encoded data removed]"
          },
          "metadata": {
            "needs_background": "light"
          }
        }
      ]
    },
    {
      "cell_type": "code",
      "source": [
        "for i in range(N):\n",
        "    temp = random.gauss(mu, sigma)\n",
        "    num.append(temp)\n",
        "plt.hist(num, bins = 100, color='yellow')\n",
        "plt.title(\"Funcion Gauss\")\n",
        "plt.show()"
      ],
      "metadata": {
        "colab": {
          "base_uri": "https://localhost:8080/",
          "height": 281
        },
        "id": "ytLux2pv9Rf8",
        "outputId": "287031eb-6175-4443-d000-255de243305a"
      },
      "execution_count": null,
      "outputs": [
        {
          "output_type": "display_data",
          "data": {
            "text/plain": [
              "<Figure size 432x288 with 1 Axes>"
            ],
            "image/png": "[encoded data removed]"
          },
          "metadata": {
            "needs_background": "light"
          }
        }
      ]
    }
  ]
}