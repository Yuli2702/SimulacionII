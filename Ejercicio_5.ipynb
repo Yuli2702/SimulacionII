{
  "nbformat": 4,
  "nbformat_minor": 0,
  "metadata": {
    "colab": {
      "name": "Ejercicio 5.ipynb",
      "provenance": [],
      "collapsed_sections": [],
      "authorship_tag": "ABX9TyObelwEVp+ty+Qg1v6z6MCu",
      "include_colab_link": true
    },
    "kernelspec": {
      "name": "python3",
      "display_name": "Python 3"
    },
    "language_info": {
      "name": "python"
    }
  },
  "cells": [
    {
      "cell_type": "markdown",
      "metadata": {
        "id": "view-in-github",
        "colab_type": "text"
      },
      "source": [
        "<a href=\"https://colab.research.google.com/github/Yuli2702/SimulacionII/blob/main/Ejercicio_5.ipynb\" target=\"_parent\"><img src=\"https://colab.research.google.com/assets/colab-badge.svg\" alt=\"Open In Colab\"/></a>"
      ]
    },
    {
      "cell_type": "markdown",
      "source": [
        "# **Ejercicio 5:**\n",
        "Para el experimento de simulación, definimos $Z_N = \\frac{X_1 + X_2 + ... + X_N}{N}$\n",
        "\n",
        "a) Calcular  $E[Z_N]$ y $V[Z_N]$"
      ],
      "metadata": {
        "id": "cuQ-wxX7cAvR"
      }
    },
    {
      "cell_type": "code",
      "execution_count": null,
      "metadata": {
        "colab": {
          "base_uri": "https://localhost:8080/"
        },
        "id": "CN7YTnscbv-r",
        "outputId": "c7a32c81-9091-41ef-9579-f49227e91f37"
      },
      "outputs": [
        {
          "output_type": "stream",
          "name": "stdout",
          "text": [
            "E[X_i] =  4.009755974664727e-05\n",
            "V[X_i] =  6.415352309175942e-08\n"
          ]
        }
      ],
      "source": [
        "import random\n",
        "N = 10000\n",
        "def p_Taylor(n):\n",
        "  x= 0 \n",
        "  for i in range(n): \n",
        "    x = random.random() \n",
        "    y = random.random() \n",
        "    if (x**2 + y**2 <1):\n",
        "      x = x+1 \n",
        "  p = (x/n) \n",
        "  return p \n",
        "E = p_Taylor(N) \n",
        "V = (16*E*(1-E))/N  \n",
        "print (\"E[X_i] = \",E)\n",
        "print (\"V[X_i] = \",V)\n"
      ]
    },
    {
      "cell_type": "code",
      "source": [
        ""
      ],
      "metadata": {
        "id": "4lbHwAAFeDoH"
      },
      "execution_count": null,
      "outputs": []
    }
  ]
}